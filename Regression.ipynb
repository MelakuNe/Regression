{
 "cells": [
  {
   "cell_type": "code",
   "execution_count": 304,
   "id": "d81d5c16",
   "metadata": {},
   "outputs": [],
   "source": [
    "import pandas as pd\n",
    "import numpy as np\n",
    "import matplotlib.pyplot as plt\n",
    "from sklearn import linear_model\n",
    "from sklearn.metrics import r2_score\n",
    "from sklearn.preprocessing import PolynomialFeatures\n",
    "from scipy.optimize import curve_fit"
   ]
  },
  {
   "cell_type": "code",
   "execution_count": 123,
   "id": "ec6af36a",
   "metadata": {},
   "outputs": [
    {
     "data": {
      "text/html": [
       "<div>\n",
       "<style scoped>\n",
       "    .dataframe tbody tr th:only-of-type {\n",
       "        vertical-align: middle;\n",
       "    }\n",
       "\n",
       "    .dataframe tbody tr th {\n",
       "        vertical-align: top;\n",
       "    }\n",
       "\n",
       "    .dataframe thead th {\n",
       "        text-align: right;\n",
       "    }\n",
       "</style>\n",
       "<table border=\"1\" class=\"dataframe\">\n",
       "  <thead>\n",
       "    <tr style=\"text-align: right;\">\n",
       "      <th></th>\n",
       "      <th>Model_year</th>\n",
       "      <th>Make</th>\n",
       "      <th>Model</th>\n",
       "      <th>Vehicle_Class</th>\n",
       "      <th>Engine_Size</th>\n",
       "      <th>CYLINDRES</th>\n",
       "      <th>TRANSMISSION</th>\n",
       "      <th>Fuel Type</th>\n",
       "      <th>FUELCONSUMPTION_CITY</th>\n",
       "      <th>FUELCONSUMPTION_HWY</th>\n",
       "      <th>FUELCONSUMPTION_COMB</th>\n",
       "      <th>FUELCONSUMPTION_COMB_MPG</th>\n",
       "      <th>Co2_emission</th>\n",
       "    </tr>\n",
       "  </thead>\n",
       "  <tbody>\n",
       "    <tr>\n",
       "      <th>1</th>\n",
       "      <td>2015</td>\n",
       "      <td>ACURA</td>\n",
       "      <td>ILX</td>\n",
       "      <td>COMPACTE</td>\n",
       "      <td>2</td>\n",
       "      <td>4.0</td>\n",
       "      <td>AS5</td>\n",
       "      <td>Z</td>\n",
       "      <td>9.7</td>\n",
       "      <td>6.7</td>\n",
       "      <td>8.3</td>\n",
       "      <td>34</td>\n",
       "      <td>191</td>\n",
       "    </tr>\n",
       "    <tr>\n",
       "      <th>2</th>\n",
       "      <td>2015</td>\n",
       "      <td>ACURA</td>\n",
       "      <td>ILX</td>\n",
       "      <td>COMPACTE</td>\n",
       "      <td>2.4</td>\n",
       "      <td>4.0</td>\n",
       "      <td>M6</td>\n",
       "      <td>Z</td>\n",
       "      <td>10.8</td>\n",
       "      <td>7.4</td>\n",
       "      <td>9.3</td>\n",
       "      <td>30</td>\n",
       "      <td>214</td>\n",
       "    </tr>\n",
       "    <tr>\n",
       "      <th>3</th>\n",
       "      <td>2015</td>\n",
       "      <td>ACURA</td>\n",
       "      <td>ILX HYBRID</td>\n",
       "      <td>COMPACTE</td>\n",
       "      <td>1.5</td>\n",
       "      <td>4.0</td>\n",
       "      <td>AV7</td>\n",
       "      <td>Z</td>\n",
       "      <td>6</td>\n",
       "      <td>6.1</td>\n",
       "      <td>6.1</td>\n",
       "      <td>46</td>\n",
       "      <td>140</td>\n",
       "    </tr>\n",
       "    <tr>\n",
       "      <th>4</th>\n",
       "      <td>2015</td>\n",
       "      <td>ACURA</td>\n",
       "      <td>MDX SH-AWD</td>\n",
       "      <td>VUS - PETIT</td>\n",
       "      <td>3.5</td>\n",
       "      <td>6.0</td>\n",
       "      <td>AS6</td>\n",
       "      <td>Z</td>\n",
       "      <td>12.7</td>\n",
       "      <td>9.1</td>\n",
       "      <td>11.1</td>\n",
       "      <td>25</td>\n",
       "      <td>255</td>\n",
       "    </tr>\n",
       "    <tr>\n",
       "      <th>5</th>\n",
       "      <td>2015</td>\n",
       "      <td>ACURA</td>\n",
       "      <td>RDX AWD</td>\n",
       "      <td>VUS - PETIT</td>\n",
       "      <td>3.5</td>\n",
       "      <td>6.0</td>\n",
       "      <td>AS6</td>\n",
       "      <td>Z</td>\n",
       "      <td>12.1</td>\n",
       "      <td>8.7</td>\n",
       "      <td>10.6</td>\n",
       "      <td>27</td>\n",
       "      <td>244</td>\n",
       "    </tr>\n",
       "    <tr>\n",
       "      <th>...</th>\n",
       "      <td>...</td>\n",
       "      <td>...</td>\n",
       "      <td>...</td>\n",
       "      <td>...</td>\n",
       "      <td>...</td>\n",
       "      <td>...</td>\n",
       "      <td>...</td>\n",
       "      <td>...</td>\n",
       "      <td>...</td>\n",
       "      <td>...</td>\n",
       "      <td>...</td>\n",
       "      <td>...</td>\n",
       "      <td>...</td>\n",
       "    </tr>\n",
       "    <tr>\n",
       "      <th>1128</th>\n",
       "      <td>2015</td>\n",
       "      <td>VOLVO</td>\n",
       "      <td>XC60 T6</td>\n",
       "      <td>VUS - PETIT</td>\n",
       "      <td>2</td>\n",
       "      <td>4.0</td>\n",
       "      <td>AS8</td>\n",
       "      <td>Z</td>\n",
       "      <td>10.7</td>\n",
       "      <td>7.8</td>\n",
       "      <td>9.4</td>\n",
       "      <td>30</td>\n",
       "      <td>216</td>\n",
       "    </tr>\n",
       "    <tr>\n",
       "      <th>1129</th>\n",
       "      <td>2015</td>\n",
       "      <td>VOLVO</td>\n",
       "      <td>XC60 T6 AWD</td>\n",
       "      <td>VUS - PETIT</td>\n",
       "      <td>3</td>\n",
       "      <td>6.0</td>\n",
       "      <td>AS6</td>\n",
       "      <td>X</td>\n",
       "      <td>13.6</td>\n",
       "      <td>9.9</td>\n",
       "      <td>11.9</td>\n",
       "      <td>24</td>\n",
       "      <td>274</td>\n",
       "    </tr>\n",
       "    <tr>\n",
       "      <th>1130</th>\n",
       "      <td>2015</td>\n",
       "      <td>VOLVO</td>\n",
       "      <td>XC70 3.2 AWD</td>\n",
       "      <td>VUS - PETIT</td>\n",
       "      <td>3.2</td>\n",
       "      <td>6.0</td>\n",
       "      <td>AS6</td>\n",
       "      <td>X</td>\n",
       "      <td>13.1</td>\n",
       "      <td>9.1</td>\n",
       "      <td>11.3</td>\n",
       "      <td>25</td>\n",
       "      <td>260</td>\n",
       "    </tr>\n",
       "    <tr>\n",
       "      <th>1131</th>\n",
       "      <td>2015</td>\n",
       "      <td>VOLVO</td>\n",
       "      <td>XC70 T5</td>\n",
       "      <td>VUS - PETIT</td>\n",
       "      <td>2</td>\n",
       "      <td>4.0</td>\n",
       "      <td>AS8</td>\n",
       "      <td>X</td>\n",
       "      <td>9.8</td>\n",
       "      <td>7.6</td>\n",
       "      <td>8.8</td>\n",
       "      <td>32</td>\n",
       "      <td>202</td>\n",
       "    </tr>\n",
       "    <tr>\n",
       "      <th>1132</th>\n",
       "      <td>2015</td>\n",
       "      <td>VOLVO</td>\n",
       "      <td>XC70 T6 AWD</td>\n",
       "      <td>VUS - PETIT</td>\n",
       "      <td>3</td>\n",
       "      <td>6.0</td>\n",
       "      <td>AS6</td>\n",
       "      <td>X</td>\n",
       "      <td>13.6</td>\n",
       "      <td>9.9</td>\n",
       "      <td>11.9</td>\n",
       "      <td>24</td>\n",
       "      <td>274</td>\n",
       "    </tr>\n",
       "  </tbody>\n",
       "</table>\n",
       "<p>1132 rows × 13 columns</p>\n",
       "</div>"
      ],
      "text/plain": [
       "     Model_year   Make         Model Vehicle_Class Engine_Size  CYLINDRES  \\\n",
       "1          2015  ACURA           ILX      COMPACTE           2        4.0   \n",
       "2          2015  ACURA           ILX      COMPACTE         2.4        4.0   \n",
       "3          2015  ACURA    ILX HYBRID      COMPACTE         1.5        4.0   \n",
       "4          2015  ACURA    MDX SH-AWD   VUS - PETIT         3.5        6.0   \n",
       "5          2015  ACURA       RDX AWD   VUS - PETIT         3.5        6.0   \n",
       "...         ...    ...           ...           ...         ...        ...   \n",
       "1128       2015  VOLVO     XC60 T6     VUS - PETIT           2        4.0   \n",
       "1129       2015  VOLVO   XC60 T6 AWD   VUS - PETIT           3        6.0   \n",
       "1130       2015  VOLVO  XC70 3.2 AWD   VUS - PETIT         3.2        6.0   \n",
       "1131       2015  VOLVO       XC70 T5   VUS - PETIT           2        4.0   \n",
       "1132       2015  VOLVO   XC70 T6 AWD   VUS - PETIT           3        6.0   \n",
       "\n",
       "     TRANSMISSION Fuel Type FUELCONSUMPTION_CITY FUELCONSUMPTION_HWY  \\\n",
       "1             AS5         Z                  9.7                 6.7   \n",
       "2              M6         Z                 10.8                 7.4   \n",
       "3             AV7         Z                    6                 6.1   \n",
       "4             AS6         Z                 12.7                 9.1   \n",
       "5             AS6         Z                 12.1                 8.7   \n",
       "...           ...       ...                  ...                 ...   \n",
       "1128          AS8         Z                 10.7                 7.8   \n",
       "1129          AS6         X                 13.6                 9.9   \n",
       "1130          AS6         X                 13.1                 9.1   \n",
       "1131          AS8         X                  9.8                 7.6   \n",
       "1132          AS6         X                 13.6                 9.9   \n",
       "\n",
       "     FUELCONSUMPTION_COMB FUELCONSUMPTION_COMB_MPG Co2_emission  \n",
       "1                     8.3                       34          191  \n",
       "2                     9.3                       30          214  \n",
       "3                     6.1                       46          140  \n",
       "4                    11.1                       25          255  \n",
       "5                    10.6                       27          244  \n",
       "...                   ...                      ...          ...  \n",
       "1128                  9.4                       30          216  \n",
       "1129                 11.9                       24          274  \n",
       "1130                 11.3                       25          260  \n",
       "1131                  8.8                       32          202  \n",
       "1132                 11.9                       24          274  \n",
       "\n",
       "[1132 rows x 13 columns]"
      ]
     },
     "execution_count": 123,
     "metadata": {},
     "output_type": "execute_result"
    }
   ],
   "source": [
    "df = pd.read_csv(\"Emission.csv\", encoding=\"latin-1\")\n",
    "df.rename({\"ÉMISSIONS DE CO2\": \"Co2_emission\",\n",
    "           \"ANNÉE\" :\"Model_year\",\n",
    "           \"MARQUE\" : \"Make\",\n",
    "          \"MODÈLE\" : \"Model\",\n",
    "          \"CATÉGORIE DE\" : \"Vehicle_Class\",\n",
    "          \"CYLINDRÉE\" : \"Engine_Size\",\n",
    "          \"TYPE DE\" : \"Fuel Type\",\n",
    "          \"CONSOMMATION DE CARBURANT*\" : \"FUELCONSUMPTION_CITY\",\n",
    "          \"Unnamed: 9\" : \"FUELCONSUMPTION_HWY\",\n",
    "          \"Unnamed: 10\" : \"FUELCONSUMPTION_COMB\",\n",
    "          \"Unnamed: 11\" : \"FUELCONSUMPTION_COMB_MPG\"}, axis = \"columns\", inplace=True )\n",
    "df.drop(index = 0, axis = 0, inplace = True)\n",
    "df"
   ]
  },
  {
   "cell_type": "code",
   "execution_count": 109,
   "id": "c2542411",
   "metadata": {
    "scrolled": true
   },
   "outputs": [
    {
     "data": {
      "image/png": "[encoded data removed]",
      "text/plain": [
       "<Figure size 432x288 with 4 Axes>"
      ]
     },
     "metadata": {
      "needs_background": "light"
     },
     "output_type": "display_data"
    },
    {
     "data": {
      "image/png": "[encoded data removed]",
      "text/plain": [
       "<Figure size 432x288 with 1 Axes>"
      ]
     },
     "metadata": {
      "needs_background": "light"
     },
     "output_type": "display_data"
    },
    {
     "data": {
      "image/png": "[encoded data removed]",
      "text/plain": [
       "<Figure size 432x288 with 1 Axes>"
      ]
     },
     "metadata": {
      "needs_background": "light"
     },
     "output_type": "display_data"
    },
    {
     "data": {
      "image/png": "[encoded data removed]",
      "text/plain": [
       "<Figure size 432x288 with 1 Axes>"
      ]
     },
     "metadata": {
      "needs_background": "light"
     },
     "output_type": "display_data"
    }
   ],
   "source": [
    "list = [\"Engine_Size\", \"CYLINDRES\", \"FUELCONSUMPTION_COMB\", \"Co2_emission\"]\n",
    "for i in list:\n",
    "    df[i] = df[i].astype(float)\n",
    "\n",
    "cdf = df[[\"Engine_Size\", \"CYLINDRES\", \"FUELCONSUMPTION_COMB\", \"Co2_emission\"]]\n",
    "cdf.head()\n",
    "cdf.hist()\n",
    "plt.show()\n",
    "\n",
    "for i in list:\n",
    "    if i != \"Co2_emission\":\n",
    "        plt.scatter(cdf[i], cdf.Co2_emission, color = 'blue')\n",
    "        plt.xlabel(i)\n",
    "        plt.ylabel(\"Co2 Emission\")\n",
    "        plt.title(f\"Co2 Emission versus {i}\")\n",
    "        plt.show()"
   ]
  },
  {
   "cell_type": "markdown",
   "id": "9483c87f",
   "metadata": {},
   "source": [
    "## Simple Linear Regression\n",
    "### Linear Regression fits a linear model with coefficients B = (B1, ..., Bn) to minimize the 'residual sum of squares' between the actual value y in the dataset, and the predicted value yhat using linear approximation."
   ]
  },
  {
   "cell_type": "code",
   "execution_count": 178,
   "id": "7c5226d7",
   "metadata": {},
   "outputs": [
    {
     "data": {
      "image/png": "[encoded data removed]",
      "text/plain": [
       "<Figure size 432x288 with 1 Axes>"
      ]
     },
     "metadata": {
      "needs_background": "light"
     },
     "output_type": "display_data"
    },
    {
     "name": "stdout",
     "output_type": "stream",
     "text": [
      "Mean absolute error 23.968226218135218\n",
      "Mean square error 991.0670731316789\n",
      "R2 score 0.7111272364322636\n"
     ]
    }
   ],
   "source": [
    "#Train and Test data, and model\n",
    "msk = np.random.randn(len(df)) < 0.8   # make the df true and false value randomly\n",
    "train = cdf[msk]   # extract the data for train based on true value of msk\n",
    "test = cdf[~msk]   # extract the data for test based on false value of msk\n",
    "# print(len(test), len(train))\n",
    "\n",
    "regr = linear_model.LinearRegression()   # object of the model\n",
    "train_x = np.asanyarray(train[['Engine_Size']]) # access engine size based on train pattern\n",
    "train_y = np.asanyarray(train[['Co2_emission']]) # accesss the emission the same way\n",
    "\n",
    "regr.fit(train_x, train_y)    #training the model\n",
    "\n",
    "#let's have a look at the coefficients\n",
    "# print(f'Coefficient {regr.coef_} \\n Intercept {regr.intercept_}')\n",
    "\n",
    "plt.scatter(train.Engine_Size, train.Co2_emission)\n",
    "plt.plot(train_x, regr.coef_[0][0]*train_x + regr.intercept_)\n",
    "plt.xlabel(\"Engine Size\")\n",
    "plt.ylabel(\"Emission\")\n",
    "plt.show()\n",
    "\n",
    "#Evaluation, checking our model by using the test dataset\n",
    "test_x = np.asanyarray(test[['Engine_Size']])\n",
    "test_y = np.asanyarray(test[['Co2_emission']])\n",
    "test_y_ = regr.predict(test_x)\n",
    "\n",
    "#Using different methods to evaluate how accurate our model is\n",
    "MAE = np.mean(np.absolute(test_y_ - test_y))\n",
    "MSE = np.mean((test_y_ - test_y)**2)\n",
    "R2_score = r2_score(test_y, test_y_)\n",
    "\n",
    "print(f'Mean absolute error {MAE}\\nMean square error {MSE}\\nR2 score {R2_score}')"
   ]
  },
  {
   "cell_type": "markdown",
   "id": "ca3d2a25",
   "metadata": {},
   "source": [
    "## Multiple Linear Regression\n",
    "### When more than one independent variable is present, the process is called multiple linear regression."
   ]
  },
  {
   "cell_type": "code",
   "execution_count": 177,
   "id": "6b1d6831",
   "metadata": {},
   "outputs": [
    {
     "name": "stdout",
     "output_type": "stream",
     "text": [
      "Mean square error 512.2997985557884 \n",
      "Variance  0.8425107477343197\n"
     ]
    }
   ],
   "source": [
    "train_x = np.asanyarray(train[[\"Engine_Size\", \"CYLINDRES\", \"FUELCONSUMPTION_COMB\"]])\n",
    "train_y = np.asanyarray(train[[\"Co2_emission\"]])\n",
    "regr.fit(train_x, train_y)   #training\n",
    "\n",
    "test_x = np.asanyarray(test[[\"Engine_Size\", \"CYLINDRES\", \"FUELCONSUMPTION_COMB\"]])\n",
    "test_y = np.asanyarray(test[[\"Co2_emission\"]])\n",
    "test_y_ = regr.predict(test_x)  #predicting\n",
    "\n",
    "MSE = np.mean((test_y_ - test_y)**2)\n",
    "Variance = regr.score(test_x, test_y)\n",
    "print(f'Mean square error {MSE} \\nVariance  {Variance}')"
   ]
  },
  {
   "cell_type": "markdown",
   "id": "5d601b69",
   "metadata": {},
   "source": [
    "## Polynomial Regression\n",
    "Sometimes, the trend of data is not really linear, and looks curvy. In this case we can use Polynomial regression methods. In fact, many different regressions exist that can be used to fit whatever the dataset looks like, such as quadratic, cubic, and so on, and it can go on and on to infinite degrees.\n",
    "\n",
    "PolynomialFeatures() function in Scikit-learn library, drives a new feature sets from the original feature set. That is, a matrix will be generated consisting of all polynomial combinations of the features with degree less than or equal to the specified degree. For example, lets say the original feature set has only one feature, ENGINESIZE. Now, if we select the degree of the polynomial to be 2, then it generates 3 features, degree=0, degree=1 and degree=2:"
   ]
  },
  {
   "cell_type": "code",
   "execution_count": 179,
   "id": "63c11803",
   "metadata": {
    "scrolled": true
   },
   "outputs": [
    {
     "name": "stdout",
     "output_type": "stream",
     "text": [
      "[[1.   2.   4.  ]\n",
      " [1.   2.4  5.76]\n",
      " [1.   1.5  2.25]\n",
      " ...\n",
      " [1.   2.5  6.25]\n",
      " [1.   2.   4.  ]\n",
      " [1.   3.   9.  ]]\n",
      "The coefficients: [[ 0.         51.51697431 -1.85181315]] \n",
      "The intercept: [104.71443231]\n"
     ]
    },
    {
     "data": {
      "image/png": "[encoded data removed]",
      "text/plain": [
       "<Figure size 432x288 with 1 Axes>"
      ]
     },
     "metadata": {
      "needs_background": "light"
     },
     "output_type": "display_data"
    },
    {
     "name": "stdout",
     "output_type": "stream",
     "text": [
      "Mean absolute error: -3.264412999155988\n",
      "Mean square error: 993.6376808297895\n",
      "R2 score:  0.7103779646928088\n"
     ]
    }
   ],
   "source": [
    "train_x = np.asanyarray(train[[\"Engine_Size\"]])\n",
    "train_y = np.asanyarray(train[[\"Co2_emission\"]])\n",
    "test_x = np.asanyarray(test[[\"Engine_Size\"]])\n",
    "test_y = np.asanyarray(test[[\"Co2_emission\"]])\n",
    "\n",
    "poly = PolynomialFeatures(degree=2)\n",
    "train_xPoly = poly.fit_transform(train_x)\n",
    "print(train_xPoly)\n",
    "\n",
    "#fitting using linear regression\n",
    "polyLinear = linear_model.LinearRegression()\n",
    "polyLinear.fit(train_xPoly, train_y)\n",
    "print(f'The coefficients: {polyLinear.coef_} \\nThe intercept: {polyLinear.intercept_}')\n",
    "\n",
    "#plotting\n",
    "plt.scatter(cdf.Engine_Size, cdf.Co2_emission)\n",
    "engine = np.arange(0.0, 10.0, 0.1)\n",
    "y = polyLinear.intercept_[0] + polyLinear.coef_[0][1]*engine + polyLinear.coef_[0][2]*np.power(engine, 2)\n",
    "plt.plot(engine, y, '-r')\n",
    "plt.xlabel(\"Engine Size\")\n",
    "plt.ylabel(\"Emission\")\n",
    "plt.show()\n",
    "\n",
    "#evaluation\n",
    "test_xPoly = poly.fit_transform(test_x)\n",
    "test_y_ = polyLinear.predict(test_xPoly)\n",
    "\n",
    "MAE = np.mean(test_y_ - test_y)\n",
    "MSE = np.mean((test_y_ - test_y)**2)\n",
    "R2_score = r2_score(test_y, test_y_)\n",
    "print(f\"Mean absolute error: {MAE}\\nMean square error: {MSE}\\nR2 score:  {R2_score}\")"
   ]
  },
  {
   "cell_type": "markdown",
   "id": "eac4af77",
   "metadata": {},
   "source": [
    "## Non Linear Regression \n",
    "Non-linear regression is a method to model the non-linear relationship between the independent variables  𝑥  and the dependent variable  𝑦 . Essentially any relationship that is not linear can be termed as non-linear\n",
    "Below we will try to fit non-linear modell to the data points correspnding to China's GDP from 1960 to 2014.\n"
   ]
  },
  {
   "cell_type": "code",
   "execution_count": 242,
   "id": "ed2734df",
   "metadata": {},
   "outputs": [
    {
     "data": {
      "image/png": "[encoded data removed]",
      "text/plain": [
       "<Figure size 432x288 with 1 Axes>"
      ]
     },
     "metadata": {
      "needs_background": "light"
     },
     "output_type": "display_data"
    },
    {
     "data": {
      "text/plain": [
       "55"
      ]
     },
     "execution_count": 242,
     "metadata": {},
     "output_type": "execute_result"
    }
   ],
   "source": [
    "china_df = pd.read_csv(\"china_gdp.csv\")\n",
    "china_df.size\n",
    "\n",
    "#Let's plot the dataset and see what we have there\n",
    "x_data, y_data = china_df['Year'], china_df['Value']\n",
    "plt.plot(x_data, y_data, 'ro')\n",
    "plt.ylabel(\"GDP\")\n",
    "plt.xlabel(\"Year\")\n",
    "plt.show()"
   ]
  },
  {
   "cell_type": "markdown",
   "id": "5daad5e0",
   "metadata": {},
   "source": [
    "The formula for the logistic function is the following:\n",
    "\n",
    "$$ \\hat{Y} = \\frac1{1+e^{-\\beta\\_1(X-\\beta\\_2)}}$$\n",
    "\n",
    "$\\beta\\_1$: Controls the curve's steepness,\n",
    "\n",
    "$\\beta\\_2$: Slides the curve on the x-axis.\n",
    "#### How we find the best parameters for our fit line?\n",
    "\n",
    "we can use **curve_fit** which uses non-linear least squares to fit our sigmoid function, to data. Optimize values for the parameters so that the sum of the squared residuals of sigmoid(xdata, \\*popt) - ydata is minimized.\n",
    "\n",
    "popt are our optimized parameters.\n"
   ]
  },
  {
   "cell_type": "code",
   "execution_count": 340,
   "id": "b21bb5f7",
   "metadata": {},
   "outputs": [
    {
     "name": "stdout",
     "output_type": "stream",
     "text": [
      "Beta_1: 665.2343320961984 \n",
      "Beta_2: 0.9971948736835452\n"
     ]
    },
    {
     "data": {
      "image/png": "[encoded data removed]",
      "text/plain": [
       "<Figure size 576x360 with 1 Axes>"
      ]
     },
     "metadata": {
      "needs_background": "light"
     },
     "output_type": "display_data"
    },
    {
     "name": "stdout",
     "output_type": "stream",
     "text": [
      "Mean absolute error: -0.01990183154721124\n",
      "Mean square error: 0.0018993481758541448\n",
      "R2 score:  0.9718411151912826\n"
     ]
    }
   ],
   "source": [
    "#Let's buils our model using the formula shown above\n",
    "def sigmoid(x, Beta_1, Beta_2):\n",
    "    div = 1 + np.exp(-Beta_1*(x - Beta_2))\n",
    "    y = 1 / div\n",
    "    return y\n",
    "    \n",
    "# Let's normalize the x and y\n",
    "xData = x_data / max(x_data)\n",
    "yData = y_data / max(y_data)\n",
    "\n",
    "#Let's split the data into train and test\n",
    "msk = np.random.randn(len(china_df)) < 0.8\n",
    "x_train = np.asanyarray(xData[msk])\n",
    "y_train = np.asanyarray(yData[msk])\n",
    "x_test = np.asanyarray(xData[~msk])\n",
    "y_test = np.asanyarray(yData[~msk])\n",
    "\n",
    "#let's build our model usinf train set\n",
    "popt, pcov = curve_fit(sigmoid, x_train, y_train)\n",
    "print(f'Beta_1: {popt[0]} \\nBeta_2: {popt[1]}')\n",
    "\n",
    "#let's plot our regression model\n",
    "x = np.linspace(1960, 2015, 55)\n",
    "x = x/max(x)\n",
    "plt.figure(figsize=(8,5))\n",
    "y = sigmoid(x, *popt)\n",
    "plt.plot(x_train, y_train, 'ro', label='data')\n",
    "plt.plot(x,y, linewidth=3.0, label='fit')\n",
    "plt.legend(loc='best')\n",
    "plt.ylabel('GDP')\n",
    "plt.xlabel('Year')\n",
    "plt.show()\n",
    "\n",
    "#predict using test dataset\n",
    "y_test_ = sigmoid(x_test,*popt )\n",
    "#Evaluation\n",
    "MAE = np.mean(y_test_ - y_test)\n",
    "MSE = np.mean((y_test_ - y_test)**2)\n",
    "R2_score = r2_score(y_test, y_test_)\n",
    "print(f\"Mean absolute error: {MAE}\\nMean square error: {MSE}\\nR2 score:  {R2_score}\")"
   ]
  },
  {
   "cell_type": "code",
   "execution_count": 287,
   "id": "d1105716",
   "metadata": {},
   "outputs": [
    {
     "name": "stdout",
     "output_type": "stream",
     "text": [
      "2\n"
     ]
    },
    {
     "data": {
      "text/plain": [
       "array([[1961],\n",
       "       [1990]], dtype=int64)"
      ]
     },
     "execution_count": 287,
     "metadata": {},
     "output_type": "execute_result"
    }
   ],
   "source": [
    "a = regr.coef_\n",
    "b = regr.intercept_\n",
    "y = lambda x, a, b: a*x1 + b*x2 + c*x3 + d\n",
    "# print(y(3.2,a,b))\n",
    "# print(a, '\\n', b)\n",
    "x = np.linspace(100, 10, 5)\n",
    "max(x)\n",
    "\n",
    "mask = np.random.randn(len(china_df)) < -2\n",
    "count = 0\n",
    "for i in mask:\n",
    "    if(i == True):\n",
    "        count +=1\n",
    "# print(count)\n",
    "\n",
    "print(len(china_df[mask]))\n",
    "# print(len(china_df[mask]))\n",
    "x = china_df[mask]\n",
    "xx = np.asanyarray(x[[\"Year\"]])\n",
    "xx"
   ]
  }
 ],
 "metadata": {
  "kernelspec": {
   "display_name": "Python 3 (ipykernel)",
   "language": "python",
   "name": "python3"
  },
  "language_info": {
   "codemirror_mode": {
    "name": "ipython",
    "version": 3
   },
   "file_extension": ".py",
   "mimetype": "text/x-python",
   "name": "python",
   "nbconvert_exporter": "python",
   "pygments_lexer": "ipython3",
   "version": "3.9.10"
  }
 },
 "nbformat": 4,
 "nbformat_minor": 5
}
